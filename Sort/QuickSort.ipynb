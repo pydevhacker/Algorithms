{
 "cells": [
  {
   "cell_type": "markdown",
   "metadata": {},
   "source": [
    "# Quick Sort"
   ]
  },
  {
   "cell_type": "raw",
   "metadata": {},
   "source": [
    "Time Complexity :\n",
    "    Worst Case : O(n^2)\n",
    "    Average Case : O(nLogn)"
   ]
  },
  {
   "cell_type": "code",
   "execution_count": 5,
   "metadata": {
    "collapsed": true
   },
   "outputs": [],
   "source": [
    "def quickSort(a, p, r):\n",
    "    if p < r:\n",
    "        q = partition(a, p, r)\n",
    "        \n",
    "        quickSort(a, p, q-1)\n",
    "        quickSort(a, q+1, r)"
   ]
  },
  {
   "cell_type": "code",
   "execution_count": 6,
   "metadata": {
    "collapsed": false
   },
   "outputs": [],
   "source": [
    "def partition(a, p, r):\n",
    "    i = p-1\n",
    "    pivot = a[r]\n",
    "    \n",
    "    for j in range(p, r):\n",
    "        if a[j] <= pivot:\n",
    "            i = i+1\n",
    "            a[i],a[j] = a[j],a[i]\n",
    "    \n",
    "    a[i+1],a[r] = a[r],a[i+1]\n",
    "    return (i+1)"
   ]
  },
  {
   "cell_type": "code",
   "execution_count": 7,
   "metadata": {
    "collapsed": false
   },
   "outputs": [
    {
     "name": "stdout",
     "output_type": "stream",
     "text": [
      "[1, 5, 7, 8, 9, 10]\n"
     ]
    }
   ],
   "source": [
    "a = [10, 7, 8, 9, 1, 5]\n",
    "quickSort(a, 0, len(a)-1)\n",
    "print(a)"
   ]
  },
  {
   "cell_type": "code",
   "execution_count": null,
   "metadata": {
    "collapsed": true
   },
   "outputs": [],
   "source": []
  }
 ],
 "metadata": {
  "kernelspec": {
   "display_name": "Python 3",
   "language": "python",
   "name": "python3"
  },
  "language_info": {
   "codemirror_mode": {
    "name": "ipython",
    "version": 3
   },
   "file_extension": ".py",
   "mimetype": "text/x-python",
   "name": "python",
   "nbconvert_exporter": "python",
   "pygments_lexer": "ipython3",
   "version": "3.5.0"
  }
 },
 "nbformat": 4,
 "nbformat_minor": 0
}
