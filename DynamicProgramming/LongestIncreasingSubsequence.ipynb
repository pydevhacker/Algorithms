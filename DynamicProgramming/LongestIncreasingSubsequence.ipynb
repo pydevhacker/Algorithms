{
 "cells": [
  {
   "cell_type": "markdown",
   "metadata": {},
   "source": [
    "# Longest Increasing Subsequence"
   ]
  },
  {
   "cell_type": "markdown",
   "metadata": {},
   "source": [
    "Example : length of LIS for [ 10, 22, 9, 33, 21, 50, 41, 60, 80 ] is 6 and LIS is [10, 22, 33, 50, 60, 80]."
   ]
  },
  {
   "cell_type": "markdown",
   "metadata": {},
   "source": [
    "## Dynamic Programming Approach\n",
    "\n",
    "Time complexity : O(n^2)"
   ]
  },
  {
   "cell_type": "code",
   "execution_count": 1,
   "metadata": {
    "collapsed": true
   },
   "outputs": [],
   "source": [
    "def lis(a):\n",
    "    \n",
    "    n = len(a)\n",
    "    \n",
    "    L = [1]*n\n",
    "    \n",
    "    for i in range(1, n):\n",
    "        for j in range(0, i):\n",
    "            if a[i] > a[j] and L[i] < L[j] + 1:\n",
    "                L[i] = L[j] + 1\n",
    "                \n",
    "    maximum = 0\n",
    "    \n",
    "    for i in range(n):\n",
    "        maximum = max(maximum, L[i])\n",
    "    print(L)\n",
    "    return maximum"
   ]
  },
  {
   "cell_type": "code",
   "execution_count": 2,
   "metadata": {
    "collapsed": false
   },
   "outputs": [
    {
     "name": "stdout",
     "output_type": "stream",
     "text": [
      "[1, 2, 1, 3, 2, 4, 4, 5, 6]\n",
      "Length of Longest increasing subsequence is  6\n"
     ]
    }
   ],
   "source": [
    "a = [10, 22, 9, 33, 21, 50, 41, 60, 80]\n",
    "print(\"Length of Longest increasing subsequence is \", lis(a))"
   ]
  },
  {
   "cell_type": "markdown",
   "metadata": {},
   "source": [
    "## Time Complexity : O(nLogn)\n",
    "\n",
    "Binary Search : O(logn)\n",
    "\n",
    "lis : O(n)\n",
    "\n",
    "Total Time Complexity : O(nLogn)"
   ]
  },
  {
   "cell_type": "code",
   "execution_count": 3,
   "metadata": {
    "collapsed": true
   },
   "outputs": [],
   "source": [
    "def binarySearch(a, k):\n",
    "    p = 0\n",
    "    r = len(a)\n",
    "    while(r>=p):\n",
    "        q = int((p+r)/2)\n",
    "        if k == a[q]:\n",
    "            return (p, q, r, 1)\n",
    "        elif k < a[q]:\n",
    "            r = q-1\n",
    "        else:\n",
    "            p = q+1\n",
    "    return (p, q, r, -1)"
   ]
  },
  {
   "cell_type": "code",
   "execution_count": 4,
   "metadata": {
    "collapsed": false
   },
   "outputs": [
    {
     "data": {
      "text/plain": [
       "(4, 4, 3, -1)"
      ]
     },
     "execution_count": 4,
     "metadata": {},
     "output_type": "execute_result"
    }
   ],
   "source": [
    "a = [1, 2, 4, 5, 7, 8]\n",
    "binarySearch(a, 6)"
   ]
  },
  {
   "cell_type": "code",
   "execution_count": 5,
   "metadata": {
    "collapsed": true
   },
   "outputs": [],
   "source": [
    "def lis(a):\n",
    "    t = []\n",
    "    \n",
    "    #add first element to t list\n",
    "    t.append(a[0])\n",
    "    \n",
    "    for i in range(1, len(a)):\n",
    "        #extend t\n",
    "        if a[i] > t[-1]:\n",
    "            t.append(a[i])\n",
    "        elif a[i] < t[0]:\n",
    "            t[0] = a[i]\n",
    "        else:\n",
    "            #find position of a[i]\n",
    "            (p, q, r, z) = binarySearch(t, a[i])\n",
    "            if z == -1: t[p] = a[i]\n",
    "    return len(t)"
   ]
  },
  {
   "cell_type": "code",
   "execution_count": 6,
   "metadata": {
    "collapsed": false
   },
   "outputs": [
    {
     "name": "stdout",
     "output_type": "stream",
     "text": [
      "Length of Longest increasing subsequence is  6\n"
     ]
    }
   ],
   "source": [
    "a = [10, 22, 9, 33, 21, 50, 41, 60, 80, 5]\n",
    "print(\"Length of Longest increasing subsequence is \", lis(a))"
   ]
  },
  {
   "cell_type": "markdown",
   "metadata": {},
   "source": [
    "### Find LIS sequences"
   ]
  },
  {
   "cell_type": "code",
   "execution_count": 7,
   "metadata": {
    "collapsed": true
   },
   "outputs": [],
   "source": [
    "def lis(a):\n",
    "    t = []\n",
    "    path = {}\n",
    "    #add first element to t list\n",
    "    t.append(a[0])\n",
    "    path.setdefault(len(t), [a[0]])\n",
    "    for i in range(1, len(a)):\n",
    "        #extend t\n",
    "        if a[i] > t[-1]:\n",
    "            t.append(a[i])\n",
    "            path.setdefault(len(t), [j for j in path[len(t)-1]]+[a[i]])\n",
    "        elif a[i] < t[0]:\n",
    "            t[0] = a[i]\n",
    "            path[1] = [a[i]]\n",
    "        else:\n",
    "            #find position of a[i]\n",
    "            (p, q, r, z) = binarySearch(t, a[i])\n",
    "            if z == -1: \n",
    "                t[p] = a[i]\n",
    "                path[p+1] = [j for j in path[r+1]] + [a[i]]\n",
    "    \n",
    "    return path, len(t)"
   ]
  },
  {
   "cell_type": "code",
   "execution_count": 8,
   "metadata": {
    "collapsed": false
   },
   "outputs": [
    {
     "name": "stdout",
     "output_type": "stream",
     "text": [
      "Length of Longest increasing subsequence is  [10, 22, 33, 41, 60, 80]\n"
     ]
    }
   ],
   "source": [
    "a = [10, 22, 9, 33, 21, 50, 41, 60, 80, 5]\n",
    "seq, t = lis(a)\n",
    "print(\"Length of Longest increasing subsequence is \", seq[t])"
   ]
  },
  {
   "cell_type": "code",
   "execution_count": null,
   "metadata": {
    "collapsed": true
   },
   "outputs": [],
   "source": []
  }
 ],
 "metadata": {
  "kernelspec": {
   "display_name": "Python 3",
   "language": "python",
   "name": "python3"
  },
  "language_info": {
   "codemirror_mode": {
    "name": "ipython",
    "version": 3
   },
   "file_extension": ".py",
   "mimetype": "text/x-python",
   "name": "python",
   "nbconvert_exporter": "python",
   "pygments_lexer": "ipython3",
   "version": "3.5.0"
  }
 },
 "nbformat": 4,
 "nbformat_minor": 0
}
