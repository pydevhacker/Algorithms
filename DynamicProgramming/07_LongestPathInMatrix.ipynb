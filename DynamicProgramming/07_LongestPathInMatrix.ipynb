{
 "cells": [
  {
   "cell_type": "markdown",
   "metadata": {},
   "source": [
    "# Find the longest path in a matrix with given constraints"
   ]
  },
  {
   "cell_type": "raw",
   "metadata": {},
   "source": [
    "Input:  mat[][] = {{1, 2, 9}\n",
    "                   {5, 3, 8}\n",
    "                   {4, 6, 7}}\n",
    "Output: 4\n",
    "The longest path is 6-7-8-9. "
   ]
  },
  {
   "cell_type": "code",
   "execution_count": null,
   "metadata": {
    "collapsed": true
   },
   "outputs": [],
   "source": [
    "#Use dfs to traverse the matrix 'a' and store result in a temp matrix 'd'\n",
    "def findLongestPath(a):\n",
    "    d = [[-1 for x in range(len(a))] for x in range(len(a))]\n",
    "    \n",
    "    for i in range(len(a)):\n",
    "        for j in range(len(a[i])):\n",
    "            if d[i][j] == -1:\n",
    "                #call dfs\n",
    "                stack = []\n",
    "                stack.append((i,j))\n",
    "                \n",
    "                while(len(stack) != 0):\n",
    "                    (x,y) = stack.pop()\n",
    "                    d[x][y] = 1\n",
    "                    #fetch child\n",
    "                    \n",
    "                    if x>0 and a[x][y] + 1 == a[x-1][y]:\n",
    "                        if d[x-1][y] == 0:\n",
    "                            d[x-1][y] = 1 + d[]\n",
    "                        stack.append((x-1, y))\n"
   ]
  }
 ],
 "metadata": {
  "kernelspec": {
   "display_name": "Python 3",
   "language": "python",
   "name": "python3"
  },
  "language_info": {
   "codemirror_mode": {
    "name": "ipython",
    "version": 3
   },
   "file_extension": ".py",
   "mimetype": "text/x-python",
   "name": "python",
   "nbconvert_exporter": "python",
   "pygments_lexer": "ipython3",
   "version": "3.5.0"
  }
 },
 "nbformat": 4,
 "nbformat_minor": 0
}
