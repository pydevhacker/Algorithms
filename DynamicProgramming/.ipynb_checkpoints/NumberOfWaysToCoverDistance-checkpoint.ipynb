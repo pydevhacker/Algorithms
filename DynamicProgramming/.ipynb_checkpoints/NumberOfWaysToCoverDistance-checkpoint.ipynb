{
 "cells": [
  {
   "cell_type": "markdown",
   "metadata": {},
   "source": [
    "# Count number of ways to cover a distance"
   ]
  },
  {
   "cell_type": "markdown",
   "metadata": {},
   "source": [
    "Input:  n = 3\n",
    "\n",
    "Output: 4\n",
    "\n",
    "Below are the four ways\n",
    "\n",
    " 1 step + 1 step + 1 step\n",
    " \n",
    " 1 step + 2 step\n",
    " \n",
    " 2 step + 1 step\n",
    " \n",
    " 3 step\n",
    "\n",
    "Input:  n = 4\n",
    "\n",
    "Output: 7"
   ]
  },
  {
   "cell_type": "markdown",
   "metadata": {},
   "source": [
    "### Recursion \n",
    "\n",
    "Time Complexity : O(3^n)"
   ]
  },
  {
   "cell_type": "code",
   "execution_count": 2,
   "metadata": {
    "collapsed": false
   },
   "outputs": [],
   "source": [
    "def dist(d):\n",
    "    if d<0: return 0\n",
    "    if d==0: return 1\n",
    "    \n",
    "    return dist(d-1) + dist(d-2) + dist(d-3)"
   ]
  },
  {
   "cell_type": "code",
   "execution_count": 3,
   "metadata": {
    "collapsed": false
   },
   "outputs": [
    {
     "data": {
      "text/plain": [
       "7"
      ]
     },
     "execution_count": 3,
     "metadata": {},
     "output_type": "execute_result"
    }
   ],
   "source": [
    "dist(4)"
   ]
  },
  {
   "cell_type": "code",
   "execution_count": 4,
   "metadata": {
    "collapsed": false
   },
   "outputs": [
    {
     "data": {
      "text/plain": [
       "4"
      ]
     },
     "execution_count": 4,
     "metadata": {},
     "output_type": "execute_result"
    }
   ],
   "source": [
    "dist(3)"
   ]
  },
  {
   "cell_type": "markdown",
   "metadata": {},
   "source": [
    "### DP\n",
    "\n",
    "Time Complexity : O(n)"
   ]
  },
  {
   "cell_type": "code",
   "execution_count": 5,
   "metadata": {
    "collapsed": true
   },
   "outputs": [],
   "source": [
    "def dist(d):\n",
    "    count = []\n",
    "    \n",
    "    #one way to cover 0 distance\n",
    "    count.append(1)\n",
    "    \n",
    "    #one way to cover 1 distance\n",
    "    count.append(1)\n",
    "    \n",
    "    #two ways to cover 2 distance\n",
    "    count.append(2)\n",
    "    \n",
    "    for i in range(3, d+1):\n",
    "        count.append(count[i-1] + count[i-2] + count[i-3])\n",
    "        \n",
    "    return count[d]"
   ]
  },
  {
   "cell_type": "code",
   "execution_count": 6,
   "metadata": {
    "collapsed": false
   },
   "outputs": [
    {
     "data": {
      "text/plain": [
       "7"
      ]
     },
     "execution_count": 6,
     "metadata": {},
     "output_type": "execute_result"
    }
   ],
   "source": [
    "dist(4)"
   ]
  },
  {
   "cell_type": "code",
   "execution_count": 7,
   "metadata": {
    "collapsed": false
   },
   "outputs": [
    {
     "data": {
      "text/plain": [
       "4"
      ]
     },
     "execution_count": 7,
     "metadata": {},
     "output_type": "execute_result"
    }
   ],
   "source": [
    "dist(3)"
   ]
  },
  {
   "cell_type": "code",
   "execution_count": null,
   "metadata": {
    "collapsed": true
   },
   "outputs": [],
   "source": []
  }
 ],
 "metadata": {
  "kernelspec": {
   "display_name": "Python 3",
   "language": "python",
   "name": "python3"
  },
  "language_info": {
   "codemirror_mode": {
    "name": "ipython",
    "version": 3
   },
   "file_extension": ".py",
   "mimetype": "text/x-python",
   "name": "python",
   "nbconvert_exporter": "python",
   "pygments_lexer": "ipython3",
   "version": "3.5.0"
  }
 },
 "nbformat": 4,
 "nbformat_minor": 0
}
