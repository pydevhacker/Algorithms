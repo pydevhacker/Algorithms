{
 "cells": [
  {
   "cell_type": "markdown",
   "metadata": {},
   "source": [
    "# Partition a set into two subsets such that the difference of subset sums is minimum"
   ]
  },
  {
   "cell_type": "markdown",
   "metadata": {},
   "source": [
    "Input:  arr[] = {1, 6, 11, 5} \n",
    "\n",
    "Output: 1\n",
    "\n",
    "Explanation:\n",
    "\n",
    "Subset1 = {1, 5, 6}, sum of Subset1 = 12 \n",
    "\n",
    "Subset2 = {11}, sum of Subset2 = 11"
   ]
  },
  {
   "cell_type": "markdown",
   "metadata": {},
   "source": [
    "### Recursive\n",
    "Time complexity : O(2^n)"
   ]
  },
  {
   "cell_type": "code",
   "execution_count": 1,
   "metadata": {},
   "outputs": [],
   "source": [
    "def minSum(a, i, sumCalc, sumTotal):\n",
    "    if i == 0:\n",
    "        return abs((sumTotal-sumCalc)-sumCalc)\n",
    "    res = min(minSum(a, i-1, sumCalc+a[i-1], sumTotal),\n",
    "              minSum(a, i-1, sumCalc, sumTotal))\n",
    "    #print(\"call to :\", i, sumCalc, \" res to : \", res)\n",
    "    return res"
   ]
  },
  {
   "cell_type": "code",
   "execution_count": 2,
   "metadata": {},
   "outputs": [
    {
     "name": "stdout",
     "output_type": "stream",
     "text": [
      "The minimum difference between two sets is :  1\n"
     ]
    }
   ],
   "source": [
    "a = [3, 1, 4, 2, 2, 1]\n",
    "sumTotal = sum(a)\n",
    "print(\"The minimum difference between two sets is : \", minSum(a, len(a), 0, sumTotal))"
   ]
  },
  {
   "cell_type": "markdown",
   "metadata": {},
   "source": [
    "### Dynamic Programming\n",
    "Time Complexity : O(m * size)"
   ]
  },
  {
   "cell_type": "code",
   "execution_count": 3,
   "metadata": {},
   "outputs": [],
   "source": [
    "def printD(d, i, j):\n",
    "    print(i, j)\n",
    "    for a in d:\n",
    "        print(a)"
   ]
  },
  {
   "cell_type": "code",
   "execution_count": 4,
   "metadata": {},
   "outputs": [],
   "source": [
    "def minSum(a):\n",
    "    n = len(a)\n",
    "    s = sum(a)\n",
    "    \n",
    "    d = [[None]*(s+1) for x in range(n+1)]\n",
    "    \n",
    "    for i in range(n+1):\n",
    "        d[i][0] = True\n",
    "    \n",
    "    for i in range(1, s+1):\n",
    "        d[0][i] = False\n",
    "    \n",
    "    \n",
    "    \n",
    "    for i in range(1, n+1):\n",
    "        for j in range(1, s+1):\n",
    "            d[i][j] = d[i-1][j]\n",
    "            \n",
    "            if(a[i-1] <= j):\n",
    "                d[i][j] = d[i-1][j - a[i-1]]\n",
    "            \n",
    "    diff = 99999\n",
    "    \n",
    "    for i in range(int(s/2), -1, -1):\n",
    "        if d[n][i] == True:\n",
    "            diff = s - (2*i)\n",
    "            break\n",
    "    \n",
    "    return diff"
   ]
  },
  {
   "cell_type": "code",
   "execution_count": 5,
   "metadata": {},
   "outputs": [
    {
     "name": "stdout",
     "output_type": "stream",
     "text": [
      "1\n"
     ]
    }
   ],
   "source": [
    "a = [3, 1, 4, 2, 2, 1]\n",
    "print(minSum(a))"
   ]
  },
  {
   "cell_type": "code",
   "execution_count": null,
   "metadata": {},
   "outputs": [],
   "source": [
    ""
   ]
  }
 ],
 "metadata": {
  "kernelspec": {
   "display_name": "Python 3",
   "language": "python",
   "name": "python3"
  },
  "language_info": {
   "codemirror_mode": {
    "name": "ipython",
    "version": 3.0
   },
   "file_extension": ".py",
   "mimetype": "text/x-python",
   "name": "python",
   "nbconvert_exporter": "python",
   "pygments_lexer": "ipython3",
   "version": "3.5.0"
  }
 },
 "nbformat": 4,
 "nbformat_minor": 0
}