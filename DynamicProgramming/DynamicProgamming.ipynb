{
 "cells": [
  {
   "cell_type": "markdown",
   "metadata": {},
   "source": [
    "# Dynamic Programming"
   ]
  },
  {
   "cell_type": "markdown",
   "metadata": {},
   "source": [
    "## Longest Increasing Subsequence\n",
    "\n",
    "[1, 2, 4, 3, 5, 8]"
   ]
  },
  {
   "cell_type": "markdown",
   "metadata": {},
   "source": [
    "### Recursion"
   ]
  },
  {
   "cell_type": "code",
   "execution_count": 5,
   "metadata": {
    "collapsed": true
   },
   "outputs": [],
   "source": [
    "_max = 0\n",
    "def LIS_Recursion(a, n):\n",
    "    global _max\n",
    "    if n == 1: #Best Case\n",
    "        return 1\n",
    "    \n",
    "    maxLength = 1\n",
    "    \n",
    "    for i in range(1, n):\n",
    "        res = LIS_Recursion(a, i)\n",
    "        if a[i-1]<a[n-1] and res+1 > maxLength:\n",
    "            maxLength = res+1\n",
    "            \n",
    "    _max = max(maxLength, _max)\n",
    "    return _max"
   ]
  },
  {
   "cell_type": "code",
   "execution_count": 6,
   "metadata": {
    "collapsed": false
   },
   "outputs": [
    {
     "name": "stdout",
     "output_type": "stream",
     "text": [
      "5\n"
     ]
    }
   ],
   "source": [
    "a = [1, 2, 4, 3, 5, 8]\n",
    "print(LIS_Recursion(a, len(a)-1))"
   ]
  },
  {
   "cell_type": "markdown",
   "metadata": {},
   "source": [
    "### Dynamic Programming"
   ]
  },
  {
   "cell_type": "code",
   "execution_count": 12,
   "metadata": {
    "collapsed": true
   },
   "outputs": [],
   "source": [
    "def lisDP(a):\n",
    "    n = len(a)\n",
    "    if n == 0: return 0\n",
    "    d = [1]*(n+1)\n",
    "    for i in range(1, n):\n",
    "        for j in range(i):\n",
    "            if a[i] > a[j] and d[i] < d[j] + 1:\n",
    "                d[i] = d[j] + 1\n",
    "    return max(d)"
   ]
  },
  {
   "cell_type": "code",
   "execution_count": 13,
   "metadata": {
    "collapsed": false
   },
   "outputs": [
    {
     "name": "stdout",
     "output_type": "stream",
     "text": [
      "5\n"
     ]
    }
   ],
   "source": [
    "a = [1, 2, 4, 3, 5, 8]\n",
    "print(lisDP(a))"
   ]
  },
  {
   "cell_type": "markdown",
   "metadata": {},
   "source": [
    "### More Optimized Solution O(n)"
   ]
  },
  {
   "cell_type": "code",
   "execution_count": null,
   "metadata": {
    "collapsed": true
   },
   "outputs": [],
   "source": [
    "     "
   ]
  }
 ],
 "metadata": {
  "kernelspec": {
   "display_name": "Python 3",
   "language": "python",
   "name": "python3"
  },
  "language_info": {
   "codemirror_mode": {
    "name": "ipython",
    "version": 3
   },
   "file_extension": ".py",
   "mimetype": "text/x-python",
   "name": "python",
   "nbconvert_exporter": "python",
   "pygments_lexer": "ipython3",
   "version": "3.5.1"
  }
 },
 "nbformat": 4,
 "nbformat_minor": 0
}
