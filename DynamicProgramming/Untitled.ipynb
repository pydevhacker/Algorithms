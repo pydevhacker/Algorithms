{
 "cells": [
  {
   "cell_type": "code",
   "execution_count": 1,
   "metadata": {
    "collapsed": true
   },
   "outputs": [],
   "source": [
    "import math"
   ]
  },
  {
   "cell_type": "code",
   "execution_count": 15,
   "metadata": {
    "collapsed": true
   },
   "outputs": [],
   "source": [
    "x = [2.5, 0.3, 2.8, 0.5]\n",
    "y = [1, -1, 1, 1]\n",
    "y1 = [1, 0, 1, 1]\n",
    "w0 = 0\n",
    "w1 = 1"
   ]
  },
  {
   "cell_type": "code",
   "execution_count": 8,
   "metadata": {
    "collapsed": false
   },
   "outputs": [
    {
     "name": "stdout",
     "output_type": "stream",
     "text": [
      "[0.9241418199787566, 0.42555748318834097, 0.9426758241011313, 0.6224593312018546]\n",
      "0.23076514147414118\n"
     ]
    }
   ],
   "source": [
    "px = []\n",
    "\n",
    "for i in range(len(x)):\n",
    "    p = 1/(1+math.exp(-1*x[i]*w1))\n",
    "    if i == 1:\n",
    "        p = 1-p\n",
    "    px.append(p)\n",
    "\n",
    "print(px)\n",
    "\n",
    "l = 1\n",
    "for i in px:\n",
    "    l = l*i\n",
    "print(l)"
   ]
  },
  {
   "cell_type": "code",
   "execution_count": 4,
   "metadata": {
    "collapsed": false
   },
   "outputs": [
    {
     "name": "stdout",
     "output_type": "stream",
     "text": [
      "0.3115003587003919\n"
     ]
    }
   ],
   "source": [
    "l = 1\n",
    "for i in px:\n",
    "    l = l*i\n",
    "print(l)"
   ]
  },
  {
   "cell_type": "code",
   "execution_count": 16,
   "metadata": {
    "collapsed": false
   },
   "outputs": [
    {
     "name": "stdout",
     "output_type": "stream",
     "text": [
      "[0.18964545005310862, -0.1723327550434977, 0.16050769251683245, 0.1887703343990727]\n"
     ]
    }
   ],
   "source": [
    "ll = []\n",
    "for i in range(len(x)):\n",
    "    p = 1/(1+math.exp(-1*x[i]*w1))\n",
    "    ll.append(x[i] * (y1[i]-p))\n",
    "    \n",
    "print(ll)"
   ]
  },
  {
   "cell_type": "code",
   "execution_count": 17,
   "metadata": {
    "collapsed": false
   },
   "outputs": [
    {
     "data": {
      "text/plain": [
       "0.36659072192551606"
      ]
     },
     "execution_count": 17,
     "metadata": {},
     "output_type": "execute_result"
    }
   ],
   "source": [
    "sum(ll)"
   ]
  },
  {
   "cell_type": "code",
   "execution_count": null,
   "metadata": {
    "collapsed": true
   },
   "outputs": [],
   "source": []
  }
 ],
 "metadata": {
  "kernelspec": {
   "display_name": "Python 3",
   "language": "python",
   "name": "python3"
  },
  "language_info": {
   "codemirror_mode": {
    "name": "ipython",
    "version": 3
   },
   "file_extension": ".py",
   "mimetype": "text/x-python",
   "name": "python",
   "nbconvert_exporter": "python",
   "pygments_lexer": "ipython3",
   "version": "3.5.0"
  }
 },
 "nbformat": 4,
 "nbformat_minor": 0
}
