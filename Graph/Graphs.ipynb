{
 "cells": [
  {
   "cell_type": "markdown",
   "metadata": {},
   "source": [
    "# Graph"
   ]
  },
  {
   "cell_type": "code",
   "execution_count": 1,
   "metadata": {},
   "outputs": [],
   "source": [
    "class Graph:\n",
    "    def __init__(self, nodes):\n",
    "        self.n_nodes = nodes\n",
    "        self.g = {}\n",
    "        for i in range(nodes):\n",
    "            self.g.setdefault(i, set())\n",
    "                \n",
    "    def addEdge(self, f, t):\n",
    "        self.g[f].add(t)\n",
    "    \n",
    "    def print(self):\n",
    "        print(self.g)\n",
    "        \n",
    "    def size(self):\n",
    "        return len(self.g)\n",
    "    \n",
    "    def childs(self, idx):\n",
    "        return self.g[idx]"
   ]
  },
  {
   "cell_type": "markdown",
   "metadata": {},
   "source": [
    "## BFS (Breadth First Search)\n",
    "\n",
    "Time Complexity : O(V+E)"
   ]
  },
  {
   "cell_type": "code",
   "execution_count": 29,
   "metadata": {},
   "outputs": [],
   "source": [
    "def BFS(g, s):\n",
    "    path = []\n",
    "    visited = [False]*g.size()\n",
    "    queue = []\n",
    "    queue.append(s)\n",
    "    visited[s] = True\n",
    "    \n",
    "    while len(queue)!= 0:\n",
    "        s = queue.pop(0)\n",
    "        path.append(s)\n",
    "        visited[s] = True\n",
    "        #get child\n",
    "        childs = g.childs(s)\n",
    "        for c in childs:\n",
    "            if visited[c] == False:\n",
    "                queue.append(c)\n",
    "                \n",
    "    \n",
    "    print(\"Path : \", path)"
   ]
  },
  {
   "cell_type": "code",
   "execution_count": 30,
   "metadata": {},
   "outputs": [],
   "source": [
    "def test_BFS():\n",
    "    g = Graph(4)\n",
    "    \n",
    "    g.addEdge(0, 1)\n",
    "    g.addEdge(0, 2)\n",
    "    g.addEdge(1, 2)\n",
    "    g.addEdge(2, 0)\n",
    "    g.addEdge(2, 3)\n",
    "    g.addEdge(3, 3)\n",
    "    \n",
    "    BFS(g, 2)"
   ]
  },
  {
   "cell_type": "code",
   "execution_count": 31,
   "metadata": {},
   "outputs": [
    {
     "name": "stdout",
     "output_type": "stream",
     "text": [
      "Path :  [2, 0, 3, 1]\n"
     ]
    }
   ],
   "source": [
    "test_BFS()"
   ]
  },
  {
   "cell_type": "markdown",
   "metadata": {},
   "source": [
    "## DFS (Depth First Search)"
   ]
  },
  {
   "cell_type": "code",
   "execution_count": 32,
   "metadata": {},
   "outputs": [],
   "source": [
    "def DFS(g, s):\n",
    "    visited = [False]*g.size()\n",
    "    \n",
    "    stack = []\n",
    "    stack.append(s)\n",
    "    path = []\n",
    "    \n",
    "    while len(stack) != 0:\n",
    "        e = stack.pop()\n",
    "        visited[e] = True\n",
    "        path.append(e)\n",
    "        #getChilds\n",
    "        childs = g.childs(e)\n",
    "        for c in childs:\n",
    "            if visited[c] == False:\n",
    "                stack.append(c)\n",
    "                \n",
    "    \n",
    "    print(\"Path : \", path)"
   ]
  },
  {
   "cell_type": "code",
   "execution_count": 33,
   "metadata": {},
   "outputs": [],
   "source": [
    "def test_DFS():\n",
    "    g = Graph(4)\n",
    "    \n",
    "    g.addEdge(0, 1)\n",
    "    g.addEdge(0, 2)\n",
    "    g.addEdge(1, 2)\n",
    "    g.addEdge(2, 0)\n",
    "    g.addEdge(2, 3)\n",
    "    g.addEdge(3, 3)\n",
    "    \n",
    "    DFS(g, 2)"
   ]
  },
  {
   "cell_type": "code",
   "execution_count": 34,
   "metadata": {},
   "outputs": [
    {
     "name": "stdout",
     "output_type": "stream",
     "text": [
      "Path :  [2, 3, 0, 1]\n"
     ]
    }
   ],
   "source": [
    "test_DFS()"
   ]
  },
  {
   "cell_type": "markdown",
   "metadata": {},
   "source": [
    "## Detect Cycle in a Directed Graph"
   ]
  },
  {
   "cell_type": "markdown",
   "metadata": {},
   "source": [
    "To detect a cycle (back edge), we use DFS and maintain a recursive stack to keep track of current branch in DFS tree. If node reappear in branch then back edge is present."
   ]
  },
  {
   "cell_type": "code",
   "execution_count": 35,
   "metadata": {},
   "outputs": [],
   "source": [
    "def isCycle(g):\n",
    "    n = g.size()\n",
    "    visited = [False]*n\n",
    "    path = []\n",
    "    stack = []\n",
    "    \n",
    "    for e in g.g:\n",
    "        if visited[e] == False:\n",
    "            stack.append(e)\n",
    "            \n",
    "            while stack:\n",
    "                ele = stack.pop()\n",
    "                \n",
    "                if ele in path:\n",
    "                    path.append(ele)\n",
    "                    return (True, path)\n",
    "                \n",
    "                path.append(ele)\n",
    "                if visited[ele]:\n",
    "                    path.pop()\n",
    "                    continue\n",
    "                    \n",
    "                childs = g.childs(ele)\n",
    "                if childs:\n",
    "                    for c in childs:\n",
    "                        if visited[c] == False: \n",
    "                            stack.append(c)\n",
    "                else:\n",
    "                    path.pop()\n",
    "    return (False, path)"
   ]
  },
  {
   "cell_type": "code",
   "execution_count": 36,
   "metadata": {},
   "outputs": [
    {
     "name": "stdout",
     "output_type": "stream",
     "text": [
      "Graph contains cycle  [0, 2, 3, 3]\n"
     ]
    }
   ],
   "source": [
    "g = Graph(4)\n",
    "    \n",
    "g.addEdge(0,1)\n",
    "g.addEdge(0,2)\n",
    "g.addEdge(1,2)\n",
    "g.addEdge(2,0)\n",
    "g.addEdge(2,3)\n",
    "g.addEdge(3,3)\n",
    "\n",
    "cycle, path = isCycle(g)\n",
    "\n",
    "if cycle:\n",
    "    print(\"Graph contains cycle \", path)\n",
    "else:\n",
    "    print(\"Graph does not contains cycle\")"
   ]
  },
  {
   "cell_type": "markdown",
   "metadata": {},
   "source": [
    "## Simple Graph"
   ]
  },
  {
   "cell_type": "code",
   "execution_count": 37,
   "metadata": {},
   "outputs": [],
   "source": [
    "class Graph:\n",
    "    def __init__(self, nodes):\n",
    "        self.g = {}\n",
    "        for i in range(nodes):\n",
    "            self.g.setdefault(i, [])\n",
    "                \n",
    "    def addEdge(self, f, t):\n",
    "        self.g[f].append(t)\n",
    "    \n",
    "    def print(self):\n",
    "        print(self.g)\n",
    "        \n",
    "    def getGraph(self):\n",
    "        return self.g\n",
    "        \n",
    "    def size(self):\n",
    "        return len(self.g)\n",
    "    \n",
    "    def childs(self, idx):\n",
    "        return self.g[idx]"
   ]
  },
  {
   "cell_type": "code",
   "execution_count": null,
   "metadata": {},
   "outputs": [],
   "source": [
    ""
   ]
  },
  {
   "cell_type": "code",
   "execution_count": null,
   "metadata": {},
   "outputs": [],
   "source": [
    ""
   ]
  }
 ],
 "metadata": {
  "kernelspec": {
   "display_name": "Python 3",
   "language": "python",
   "name": "python3"
  },
  "language_info": {
   "codemirror_mode": {
    "name": "ipython",
    "version": 3.0
   },
   "file_extension": ".py",
   "mimetype": "text/x-python",
   "name": "python",
   "nbconvert_exporter": "python",
   "pygments_lexer": "ipython3",
   "version": "3.5.1"
  }
 },
 "nbformat": 4,
 "nbformat_minor": 0
}